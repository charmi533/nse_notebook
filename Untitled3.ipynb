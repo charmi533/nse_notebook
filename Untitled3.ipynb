{
 "cells": [
  {
   "cell_type": "code",
   "execution_count": 15,
   "metadata": {},
   "outputs": [],
   "source": [
    "import urllib3\n",
    "import pandas as pd\n",
    "import numpy as np\n",
    "import json"
   ]
  },
  {
   "cell_type": "code",
   "execution_count": 27,
   "metadata": {},
   "outputs": [],
   "source": [
    "url =\"http://iislliveblob.niftyindices.com/jsonfiles/equitystockwatch/EquityStockWatchNIFTY%2050.json?{}&_=1538371647878\"\n",
    "http = urllib3.PoolManager()\n",
    "r = http.request('GET', url)\n"
   ]
  },
  {
   "cell_type": "code",
   "execution_count": 17,
   "metadata": {},
   "outputs": [
    {
     "name": "stdout",
     "output_type": "stream",
     "text": [
      "34\n",
      "16\n",
      "0\n"
     ]
    }
   ],
   "source": [
    "json_data = json.loads(r.data)\n",
    "print(json_data['advances'])\n",
    "print(json_data['declines'])\n",
    "print(json_data['unchanged'])"
   ]
  },
  {
   "cell_type": "code",
   "execution_count": 28,
   "metadata": {},
   "outputs": [],
   "source": [
    "stock_data = json_data['data']"
   ]
  },
  {
   "cell_type": "code",
   "execution_count": 30,
   "metadata": {},
   "outputs": [
    {
     "name": "stdout",
     "output_type": "stream",
     "text": [
      "                 high        low        LTP       open  prevClose\n",
      "Symbol                                                           \n",
      "YESBANK        203.80     170.60     199.85     180.00     183.65\n",
      "HINDALCO       244.10     225.00     244.00     229.10     229.65\n",
      "IBULHSGFIN     964.00     805.00     892.05     860.20     856.85\n",
      "HDFC         1,817.10   1,753.10   1,815.00   1,765.70   1,754.50\n",
      "SBIN           275.20     264.10     274.10     265.50     265.50\n",
      "TCS          2,275.95   2,190.35   2,250.30   2,190.90   2,183.70\n",
      "ICICIBANK      315.05     300.55     314.20     306.30     305.55\n",
      "EICHERMOT   24,999.00  23,230.00  24,839.90  24,280.00  24,185.40\n",
      "TATAMOTORS     230.45     220.00     229.70     225.00     223.70\n",
      "BAJFINANCE   2,233.35   2,052.20   2,218.00   2,168.00   2,168.00\n",
      "HINDUNILVR   1,652.40   1,601.60   1,645.00   1,606.50   1,608.40\n",
      "TECHM          763.50     741.70     761.50     749.00     745.50\n",
      "COALINDIA      274.00     262.80     271.95     266.25     266.25\n",
      "WIPRO          332.45     323.00     330.70     324.00     324.00\n",
      "SUNPHARMA      639.00     610.00     636.00     624.00     623.25\n",
      "POWERGRID      193.90     185.90     192.00     188.30     188.40\n",
      "BAJAJ-AUTO   2,745.00   2,619.60   2,735.00   2,687.00   2,687.45\n",
      "INFY           754.90     733.00     742.95     737.50     730.05\n",
      "HDFCBANK     2,042.00   1,997.80   2,039.90   2,009.80   2,006.05\n",
      "MARUTI       7,485.00   7,206.00   7,465.00   7,354.00   7,347.95\n",
      "ONGC           181.10     174.65     179.90     179.30     177.20\n",
      "ADANIPORTS     334.40     320.00     333.00     328.00     328.90\n",
      "HEROMOTOCO   2,985.70   2,850.00   2,965.50   2,910.00   2,933.25\n",
      "NTPC           170.30     166.15     168.55     167.50     166.85\n",
      "IOC            155.00     150.00     154.70     153.00     153.35\n",
      "INFRATEL       272.30     262.00     265.15     262.90     262.95\n",
      "TITAN          814.40     782.00     812.25     800.00     805.60\n",
      "ZEEL           442.00     423.20     442.00     438.60     438.60\n",
      "HCLTECH      1,101.00   1,081.00   1,095.00   1,085.20   1,087.80\n",
      "VEDL           234.10     225.45     233.75     230.00     232.30\n",
      "UPL            670.00     638.15     667.50     664.65     664.30\n",
      "GAIL           386.75     377.60     380.75     381.80     379.00\n",
      "CIPLA          659.00     643.50     657.00     653.05     654.05\n",
      "TATASTEEL      585.80     557.50     582.00     580.00     581.25\n",
      "JSWSTEEL       386.85     371.10     380.90     375.00     381.65\n",
      "ITC            302.95     293.40     297.00     300.85     297.75\n",
      "DRREDDY      2,540.70   2,440.35   2,512.00   2,531.00   2,530.65\n",
      "BPCL           372.75     360.25     370.00     372.00     374.15\n",
      "ASIANPAINT   1,307.90   1,269.00   1,279.00   1,299.00   1,293.30\n",
      "M&M            864.45     840.95     847.15     860.50     860.95\n",
      "BAJAJFINSV   6,040.00   5,771.00   5,909.00   6,000.00   6,006.20\n",
      "LT           1,274.00   1,217.55   1,251.00   1,274.00   1,272.10\n",
      "RELIANCE     1,257.70   1,204.00   1,235.60   1,257.70   1,257.95\n",
      "GRASIM       1,023.00     982.00   1,001.50   1,021.00   1,021.50\n",
      "KOTAKBANK    1,130.80   1,002.20   1,118.00   1,090.00   1,141.60\n",
      "INDUSINDBK   1,669.90   1,615.65   1,649.00   1,660.00   1,690.05\n",
      "ULTRACEMCO   4,050.00   3,854.00   3,941.15   4,050.00   4,059.95\n",
      "AXISBANK       617.50     572.50     592.75     615.10     613.25\n",
      "HINDPETRO      251.00     237.30     243.00     250.05     251.45\n",
      "BHARTIARTL     340.00     321.70     324.40     339.00     338.55\n"
     ]
    }
   ],
   "source": [
    "columns = ['cAct', 'iislPercChange', 'iislPtsChange', 'mPC', 'mVal', 'ntP', 'per', 'ptsC', 'trdVol', 'trdVolM', 'trdVolM', 'wkhi', 'wkhicm_adj', 'xDt', 'wklo', 'wklocm_adj', 'yPC', 'dayEndClose']\n",
    "df = pd.DataFrame(stock_data)\n",
    "df.drop(columns=columns, inplace=True)\n",
    "df.rename(columns={'symbol': 'Symbol', 'ltP': 'LTP', 'previousClose':'prevClose'}, inplace=True)\n",
    "df.set_index('Symbol', inplace=True)\n",
    "print(df)"
   ]
  },
  {
   "cell_type": "code",
   "execution_count": null,
   "metadata": {},
   "outputs": [],
   "source": []
  },
  {
   "cell_type": "code",
   "execution_count": null,
   "metadata": {},
   "outputs": [],
   "source": []
  }
 ],
 "metadata": {
  "kernelspec": {
   "display_name": "Python 3",
   "language": "python",
   "name": "python3"
  },
  "language_info": {
   "codemirror_mode": {
    "name": "ipython",
    "version": 3
   },
   "file_extension": ".py",
   "mimetype": "text/x-python",
   "name": "python",
   "nbconvert_exporter": "python",
   "pygments_lexer": "ipython3",
   "version": "3.6.2"
  }
 },
 "nbformat": 4,
 "nbformat_minor": 2
}
